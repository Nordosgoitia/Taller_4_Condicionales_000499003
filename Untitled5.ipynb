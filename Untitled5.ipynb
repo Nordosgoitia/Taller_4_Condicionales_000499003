{
  "nbformat": 4,
  "nbformat_minor": 0,
  "metadata": {
    "colab": {
      "provenance": [],
      "authorship_tag": "ABX9TyMFSlmdoMj50RRUgJ94yygV",
      "include_colab_link": true
    },
    "kernelspec": {
      "name": "python3",
      "display_name": "Python 3"
    },
    "language_info": {
      "name": "python"
    }
  },
  "cells": [
    {
      "cell_type": "markdown",
      "metadata": {
        "id": "view-in-github",
        "colab_type": "text"
      },
      "source": [
        "<a href=\"https://colab.research.google.com/github/Nordosgoitia/Taller_4_Condicionales_000499003/blob/main/Untitled5.ipynb\" target=\"_parent\"><img src=\"https://colab.research.google.com/assets/colab-badge.svg\" alt=\"Open In Colab\"/></a>"
      ]
    },
    {
      "cell_type": "markdown",
      "source": [
        "# TALLER 4: CONDICIONALES\n",
        "\n",
        "Programacion y Algoritmia\n",
        "\n",
        "Nataly Ordosgoitia Contreras\n",
        "\n",
        "ID: 000499003\n",
        "\n"
      ],
      "metadata": {
        "id": "t_-P_Q_ig6vN"
      }
    },
    {
      "cell_type": "markdown",
      "source": [
        "Ejercicio 1. Calculadora de calificaciones\n",
        "\n",
        "Escribe un programa en Python que solicite al usuario ingresar una calificación numérica (de 0 a 5)\n",
        "y luego muestre un mensaje que diga si el estudiante aprobó o reprobó. Utiliza una estructura\n",
        "selectiva doble (if - else)."
      ],
      "metadata": {
        "id": "-f_Uqv4alXaD"
      }
    },
    {
      "cell_type": "code",
      "source": [
        "# Programa para calcular si un estudiante aprueba o repueba\n",
        "\n",
        "## Solicitar al usuario ingresar una calificacion\n",
        "calificacion = float(input(\"ingrese la calificacion (de 0 a 5): \"))\n",
        "\n",
        "## Verificar si la calificacion se encuentra en el rango valido\n",
        "if calificacion >= 0 and calificacion <= 5:\n",
        "  if calificacion >= 3:\n",
        "    print(\"Aprobó\")\n",
        "\n",
        "  else:\n",
        "    print(\"Reprobó\")\n",
        "\n",
        "else:\n",
        "  print(\"La calificacion ingresada no está en rango valido (de 0 a 5)\")"
      ],
      "metadata": {
        "colab": {
          "base_uri": "https://localhost:8080/"
        },
        "id": "6HO4jjxgg8dE",
        "outputId": "4d43381a-aba5-4513-d4ff-b3410f29c949"
      },
      "execution_count": 30,
      "outputs": [
        {
          "output_type": "stream",
          "name": "stdout",
          "text": [
            "ingrese la calificacion (de 0 a 5): 4.5\n",
            "Aprobó\n"
          ]
        }
      ]
    },
    {
      "cell_type": "markdown",
      "source": [
        "Ejercicio 2. Verificar si un número es positivo, negativo o cero\n",
        "\n",
        "Escribe un programa en Python que solicite al usuario ingresar un número y luego determine e\n",
        "imprima si el número es positivo, negativo o cero utilizando estructuras selectivas doble (if - else)."
      ],
      "metadata": {
        "id": "XR9peIANmVb-"
      }
    },
    {
      "cell_type": "code",
      "source": [
        "# Programa para verificar si un número es positivo, negativo o cero\n",
        "\n",
        "numero = float(input(\"Ingrese un numero: \"))\n",
        "\n",
        "if numero > 0:\n",
        "  print(\"El numero es positivo\")\n",
        "\n",
        "elif numero < 0:\n",
        "  print(\"El numero es negativo\")\n",
        "\n",
        "else:\n",
        "  print(\"El numero es cero\")"
      ],
      "metadata": {
        "colab": {
          "base_uri": "https://localhost:8080/"
        },
        "id": "Dtmh5ck5igfr",
        "outputId": "42ab8314-c95a-41db-ec2b-ba75451ab152"
      },
      "execution_count": 31,
      "outputs": [
        {
          "output_type": "stream",
          "name": "stdout",
          "text": [
            "Ingrese un numero: 0\n",
            "El numero es cero\n"
          ]
        }
      ]
    },
    {
      "cell_type": "markdown",
      "source": [
        "Ejercicio 3. Validación de contraseña\n",
        "\n",
        "Escribe un programa en Python que solicite al usuario ingresar una contraseña. Si la contraseña es\n",
        "\"python123\", el programa debe imprimir \"Contraseña válida\". De lo contrario, debe imprimir\n",
        "\"Contraseña incorrecta\". Utiliza una estructura selectiva doble (if - else).\n",
        "\n",
        "\n",
        "\n"
      ],
      "metadata": {
        "id": "sjRL0OE_pQbo"
      }
    },
    {
      "cell_type": "code",
      "source": [
        "# Programa para validación de contraseña\n",
        "\n",
        "contrasena_ingresada = input(\"Ingresar Contraseña: \")\n",
        "contrasena_valida = \"python123\"\n",
        "\n",
        "if contrasena_ingresada == contrasena_valida:\n",
        "  print(\"Contraseña válida\")\n",
        "\n",
        "else:\n",
        "  print(\"Contraseña incorrecta\")"
      ],
      "metadata": {
        "colab": {
          "base_uri": "https://localhost:8080/"
        },
        "id": "jDSNoX0NnlsR",
        "outputId": "313d8816-5a36-4e06-a8bf-ffb9290f2bca"
      },
      "execution_count": 32,
      "outputs": [
        {
          "output_type": "stream",
          "name": "stdout",
          "text": [
            "Ingresar Contraseña: jajajaajaj\n",
            "Contraseña incorrecta\n"
          ]
        }
      ]
    },
    {
      "cell_type": "markdown",
      "source": [
        "Ejercicio 4. Determinar si un número es par o impar\n",
        "\n",
        "Escribe un programa en Python que solicite al usuario ingresar un número y determine e imprima si\n",
        "el número es par o impar utilizando una estructura selectiva doble (if - else)."
      ],
      "metadata": {
        "id": "lObgeALSsvIh"
      }
    },
    {
      "cell_type": "code",
      "source": [
        "# Programa para determinar si un número es par o impar\n",
        "\n",
        "numero = int(input(\"Ingresar un numero: \"))\n",
        "\n",
        "if numero % 2 == 0:\n",
        "  print(\"El numero es par\")\n",
        "\n",
        "else:\n",
        "  print(\"El numero es impar\")\n"
      ],
      "metadata": {
        "colab": {
          "base_uri": "https://localhost:8080/"
        },
        "id": "0dVtBCFGqCxF",
        "outputId": "6650dc4e-9b51-442e-9a04-c725519f00be"
      },
      "execution_count": 33,
      "outputs": [
        {
          "output_type": "stream",
          "name": "stdout",
          "text": [
            "Ingresar un numero: 18\n",
            "El numero es par\n"
          ]
        }
      ]
    },
    {
      "cell_type": "markdown",
      "source": [
        "Ejercicio 5. Determinar el número mayor\n",
        "\n",
        "Escribe un programa en Python que solicite al usuario ingresar cinco números y luego determine e\n",
        "imprima cuál de los cinco números es mayor utilizando estructuras selectivas doble (if - else)."
      ],
      "metadata": {
        "id": "Wy0Q-G5-uWm4"
      }
    },
    {
      "cell_type": "code",
      "source": [
        "# Programa para determinar el numero mayor\n",
        "\n",
        "numeros = []\n",
        "\n",
        "for i in range(5):\n",
        "  numero = float(input(f\"Ingresar el numero {i+1}: \"))\n",
        "  numeros.append(numero)\n",
        "\n",
        "mayor = numeros[0]\n",
        "\n",
        "for numero in numeros:\n",
        "    if numero > mayor:\n",
        "        mayor = numero\n",
        "\n",
        "print(f\"El numero mayor es: {mayor}\")\n"
      ],
      "metadata": {
        "colab": {
          "base_uri": "https://localhost:8080/"
        },
        "id": "jIi-lKAmugUA",
        "outputId": "16eab25b-83b7-4d7d-b276-5fd0479f41d7"
      },
      "execution_count": 38,
      "outputs": [
        {
          "output_type": "stream",
          "name": "stdout",
          "text": [
            "Ingresar el numero 1: 11\n",
            "Ingresar el numero 2: 8\n",
            "Ingresar el numero 3: 20\n",
            "Ingresar el numero 4: 05\n",
            "Ingresar el numero 5: 81\n",
            "El numero mayor es: 81.0\n"
          ]
        }
      ]
    },
    {
      "cell_type": "markdown",
      "source": [
        "Ejercicio 6. Categorizar edades\n",
        "\n",
        "Escribe un programa en Python que solicite al usuario ingresar una edad y determine e imprima en\n",
        "qué categoría se encuentra la persona: \"Niño\" (0-12 años), \"Adolescente\" (13-19 años), \"Adulto\"\n",
        "(20-64 años) o \"Adulto Mayor\" (65 o más años).\n"
      ],
      "metadata": {
        "id": "bGBKSV84yrFm"
      }
    },
    {
      "cell_type": "code",
      "source": [
        "# Programa para categorizar edades\n",
        "\n",
        "edad = int(input(\"Ingresar la edad: \"))\n",
        "\n",
        "if edad >= 0 and edad <= 12:\n",
        "  categoria = \"Niño\"\n",
        "\n",
        "elif edad >= 13 and edad <=19:\n",
        "  categoria = \"Adolescente\"\n",
        "\n",
        "elif edad >= 20 and edad <=64:\n",
        "  categoria = \"Adulto\"\n",
        "\n",
        "else:\n",
        "    categoria = \"Adulto Mayor\"\n",
        "\n",
        "print(f\"La persona en se encuentra en la categoria: {categoria}\")\n"
      ],
      "metadata": {
        "colab": {
          "base_uri": "https://localhost:8080/"
        },
        "id": "ebckdVBswSnF",
        "outputId": "f0077d47-852e-4811-9361-c84537645044"
      },
      "execution_count": 40,
      "outputs": [
        {
          "output_type": "stream",
          "name": "stdout",
          "text": [
            "Ingresar la edad: 18\n",
            "La persona en se encuentra en la categoria: Adolescente\n"
          ]
        }
      ]
    },
    {
      "cell_type": "code",
      "source": [],
      "metadata": {
        "id": "r_t_IgCY0YGE"
      },
      "execution_count": null,
      "outputs": []
    }
  ]
}